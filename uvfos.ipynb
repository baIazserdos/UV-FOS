{
 "cells": [
  {
   "cell_type": "code",
   "execution_count": 1,
   "metadata": {},
   "outputs": [],
   "source": [
    "import numpy as np\n",
    "import pandas as pd\n", 
    "from import_data import data"
   ]
  },
  {
   "cell_type": "markdown",
   "metadata": {},
   "source": [
    "## Import the data"
   ]
  },
  {
   "cell_type": "code",
   "execution_count": 2,
   "metadata": {},
   "outputs": [],
   "source": [
    "data = import_data()"
   ]
  },
  {
   "cell_type": "markdown",
   "metadata": {},
   "source": [
    "## Separate test set and normalize the data"
   ]
  },
  {
   "cell_type": "code",
   "execution_count": 3,
   "metadata": {},
   "outputs": [],
   "source": [
    "num_test_samples = 47 # 25% of all samples\n",
    "\n",
    "np.random.shuffle(data)\n",
    "test_data = data[:num_test_samples]\n",
    "data = data[num_test_samples:]\n",
    "\n",
    "mean = data[:,:-6].mean(axis=0) # leave the target variables out of normalization!\n",
    "data[:,:-6] -= mean\n",
    "std = data[:,:-6].std(axis=0)\n",
    "data[:,:-6] /= std\n",
    "\n",
    "test_data[:,:-6] -= mean\n",
    "test_data[:,:-6] /= std"
   ]
  },
  {
   "cell_type": "markdown",
   "metadata": {},
   "source": [
    "## Define model"
   ]
  },
  {
   "cell_type": "code",
   "execution_count": 4,
   "metadata": {},
   "outputs": [
    {
     "name": "stderr",
     "output_type": "stream",
     "text": [
      "Using TensorFlow backend.\n"
     ]
    }
   ],
   "source": [
    "from keras import models\n",
    "from keras import layers\n",
    "\n",
    "def build_model():\n",
    "    model = models.Sequential()\n",
    "    model.add(layers.Dense(32, activation='relu', \n",
    "                           input_shape=(train_X.shape[1],)))\n",
    "    model.add(layers.Dense(16, activation='relu'))\n",
    "    model.add(layers.Dense(6))\n",
    "    model.compile(optimizer='rmsprop', loss='mse', metrics=['mae'])\n",
    "    return model"
   ]
  },
  {
   "cell_type": "markdown",
   "metadata": {},
   "source": [
    "## Set up K-fold cross-validation and train"
   ]
  },
  {
   "cell_type": "code",
   "execution_count": 5,
   "metadata": {},
   "outputs": [
    {
     "name": "stdout",
     "output_type": "stream",
     "text": [
      "processing fold # 0\n",
      "processing fold # 1\n",
      "processing fold # 2\n",
      "processing fold # 3\n"
     ]
    }
   ],
   "source": [
    "k = 4\n",
    "num_val_samples = len(data) // k\n",
    "num_epochs = 500\n",
    "\n",
    "validation_scores = []\n",
    "train_MSE_history = []\n",
    "val_MSE_history = []\n",
    "val_MAE_history = []\n",
    "\n",
    "for fold in range(k):\n",
    "    \n",
    "    \n",
    "    validation_data = data[num_val_samples * fold:\n",
    "                           num_val_samples *(fold+1)]\n",
    "    training_data = np.concatenate([data[:num_val_samples * fold],\n",
    "                                    data[num_val_samples * (fold+1):]], axis=0)\n",
    "    \n",
    "    train_X = training_data[:,:-6]\n",
    "    train_y = training_data[:,-6:]\n",
    "    val_X = validation_data[:,:-6]\n",
    "    val_y = validation_data[:,-6:]\n",
    "    \n",
    "    #print(train_X.shape, train_y.shape, val_X.shape, val_y.shape)\n",
    "    print('processing fold #', fold)\n",
    "    model = build_model()\n",
    "    train_history = model.fit(train_X, train_y, epochs=num_epochs, \n",
    "                              validation_data=(val_X, val_y), \n",
    "                              batch_size=1, verbose=0)\n",
    "    \n",
    "    train_loss = train_history.history['loss']\n",
    "    val_loss = train_history.history['val_loss']\n",
    "    val_mae = train_history.history['val_mean_absolute_error']\n",
    "    \n",
    "    train_MSE_history.append(train_loss)\n",
    "    val_MSE_history.append(val_loss)\n",
    "    val_MAE_history.append(val_mae)\n",
    "    validation_score = model.evaluate(val_X, val_y, verbose=0)\n",
    "    validation_scores.append(validation_score)\n",
    "    \n",
    "validation_score = np.average(validation_scores)"
   ]
  },
  {
   "cell_type": "markdown",
   "metadata": {},
   "source": [
    "## Average the validation MAE, training and validation MSE over folds for each epoch"
   ]
  },
  {
   "cell_type": "code",
   "execution_count": 6,
   "metadata": {},
   "outputs": [],
   "source": [
    "avg_train_mse_history = [np.mean([x[i] for x in train_MSE_history]) for i in range(num_epochs)]\n",
    "avg_val_mse_history = [np.mean([x[i] for x in val_MSE_history]) for i in range(num_epochs)]\n",
    "avg_val_mae_history = [np.mean([x[i] for x in val_MAE_history]) for i in range(num_epochs)]"
   ]
  },
  {
   "cell_type": "code",
   "execution_count": 7,
   "metadata": {},
   "outputs": [
    {
     "data": {
      "image/png": "[encoded data removed]",
      "text/plain": [
       "<matplotlib.figure.Figure at 0x22855e497b8>"
      ]
     },
     "metadata": {},
     "output_type": "display_data"
    }
   ],
   "source": [
    "## validation MAE score\n",
    "\n",
    "import matplotlib.pyplot as plt\n",
    "\n",
    "plt.plot(range(1, len(avg_val_mae_history) + 1), avg_val_mae_history)\n",
    "\n",
    "plt.xlabel('epochs')\n",
    "plt.ylabel('MAE')\n",
    "plt.legend(['val_MAE'])\n",
    "plt.show()"
   ]
  },
  {
   "cell_type": "code",
   "execution_count": 8,
   "metadata": {},
   "outputs": [
    {
     "data": {
      "image/png": "[encoded data removed]",
      "text/plain": [
       "<matplotlib.figure.Figure at 0x22857d55b00>"
      ]
     },
     "metadata": {},
     "output_type": "display_data"
    }
   ],
   "source": [
    "## training and validation MSE score\n",
    "\n",
    "plt.plot(range(1, len(avg_train_mse_history) + 1), avg_train_mse_history)\n",
    "plt.plot(range(1, len(avg_val_mse_history) + 1), avg_val_mse_history)\n",
    "\n",
    "plt.xlabel('epochs')\n",
    "plt.ylabel('MSE')\n",
    "plt.legend(['train_loss', 'val_loss'])\n",
    "plt.show()"
   ]
  },
  {
   "cell_type": "markdown",
   "metadata": {},
   "source": [
    "## Smooth plot for interpretability"
   ]
  },
  {
   "cell_type": "code",
   "execution_count": 9,
   "metadata": {},
   "outputs": [],
   "source": [
    "def smooth_curve(points, factor=0.9):\n",
    "    smoothed_points = []\n",
    "    for point in points:\n",
    "        if smoothed_points:\n",
    "            previous = smoothed_points[-1]\n",
    "            smoothed_points.append(previous * factor + point * (1 - factor))\n",
    "        else:\n",
    "            smoothed_points.append(point)\n",
    "    return smoothed_points\n",
    "\n",
    "smoothed_avg_train_mse_history = smooth_curve(avg_train_mse_history[16:300])\n",
    "smoothed_avg_val_mse_history = smooth_curve(avg_val_mse_history[16:300])"
   ]
  },
  {
   "cell_type": "code",
   "execution_count": 10,
   "metadata": {},
   "outputs": [
    {
     "data": {
      "image/png": "[encoded data removed]",
      "text/plain": [
       "<matplotlib.figure.Figure at 0x22858c7f710>"
      ]
     },
     "metadata": {},
     "output_type": "display_data"
    }
   ],
   "source": [
    "plt.plot(range(1, len(smoothed_avg_train_mse_history) + 1), smoothed_avg_train_mse_history)\n",
    "plt.plot(range(1, len(smoothed_avg_val_mse_history) + 1), smoothed_avg_val_mse_history)\n",
    "\n",
    "plt.xlabel('epochs')\n",
    "plt.ylabel('MSE')\n",
    "plt.legend(['train_loss', 'val_loss'])\n",
    "plt.show()"
   ]
  },
  {
   "cell_type": "markdown",
   "metadata": {},
   "source": [
    "## Build final model and evaluate on test set"
   ]
  },
  {
   "cell_type": "code",
   "execution_count": 13,
   "metadata": {},
   "outputs": [],
   "source": [
    "model = build_model()\n",
    "model.fit(data[:,:-6], data[:,-6:], epochs=200, batch_size=1, verbose=0)\n",
    "test_scores = model.evaluate(test_data[:,:-6], test_data[:,-6:], verbose=0)"
   ]
  },
  {
   "cell_type": "code",
   "execution_count": 18,
   "metadata": {},
   "outputs": [
    {
     "name": "stdout",
     "output_type": "stream",
     "text": [
      "test MSE: 45.23, test MAE: 3.85\n"
     ]
    }
   ],
   "source": [
    "print('test MSE: %.2f, test MAE: %.2f' % (test_scores[0], test_scores[1]))"
   ]
  },
  {
   "cell_type": "code",
   "execution_count": 12,
   "metadata": {},
   "outputs": [],
   "source": [
    "## TODO: \n",
    "## hyperparameter tuning\n",
    "## iterated K-fold CV\n"
   ]
  }
 ],
 "metadata": {
  "kernelspec": {
   "display_name": "Python 3",
   "language": "python",
   "name": "python3"
  },
  "language_info": {
   "codemirror_mode": {
    "name": "ipython",
    "version": 3
   },
   "file_extension": ".py",
   "mimetype": "text/x-python",
   "name": "python",
   "nbconvert_exporter": "python",
   "pygments_lexer": "ipython3",
   "version": "3.6.3"
  }
 },
 "nbformat": 4,
 "nbformat_minor": 2
}
